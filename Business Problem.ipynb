{
    "cells": [
        {
            "cell_type": "markdown",
            "metadata": {
                "collapsed": true
            },
            "source": "## Introduction/Business Problem <br>\n\n### 1-Background"
        },
        {
            "cell_type": "markdown",
            "metadata": {},
            "source": "In this project, the main goal is to find and recommend a place for opening a new Cafe/Cafeteria/Coffee shop in the city of New York in US. As explained in \"https://squareup.com/us/en/townsquare/how-to-find-a-coffee-shop-location\", there are so many parameteres that we have to consider when we want to open a cafe as listed below: <br>\n\n**1-1-Demographics** <br>\n\nFoot traffic is important when you\u2019re picking a location for your coffee shop. But a ton of foot traffic doesn\u2019t matter if those people aren\u2019t your  target demographic.\n\nUnderstanding your target market is a crucial step when you\u2019re starting a coffee shop and it should largely influence your location decision. Where is your customer going when they pass your coffee shop and make the decision to purchase your coffee? They could be on their way to work, school, university, or potentially on their way home after dinner. Dissecting your customer helps you better determine the best location for your coffee shop.\n\n**1-2-Neighboring businesses** <br>\n\nWhen you\u2019re determining the best location for a coffee shop, neighboring businesses can also affect your profitability \u2014 both negatively and positively.\n\nIt might be obvious to research other local coffee shops to find out where they are established, but your competitors aren\u2019t limited to other coffee shops. If your coffee shop targets customers looking for a quick breakfast, you should keep your eye on quick breakfast alternatives including smoothie joints, juice bars, bagel places, and even fast food chains. While these businesses are all in different categories, they could all be competing with the products you serve.\n\n**1-3-Accessibility**\n\nThe accessibility of the space should be another consideration when you\u2019re searching for the best location for your coffee shop. While your customers will come back for the quality of your product , the convenience of your coffee shop\u2019s location will also weigh into their decision to first give you a try (and then come back).\n"
        },
        {
            "cell_type": "code",
            "execution_count": null,
            "metadata": {},
            "outputs": [],
            "source": ""
        }
    ],
    "metadata": {
        "kernelspec": {
            "display_name": "Python 3.6",
            "language": "python",
            "name": "python3"
        },
        "language_info": {
            "codemirror_mode": {
                "name": "ipython",
                "version": 3
            },
            "file_extension": ".py",
            "mimetype": "text/x-python",
            "name": "python",
            "nbconvert_exporter": "python",
            "pygments_lexer": "ipython3",
            "version": "3.6.9"
        }
    },
    "nbformat": 4,
    "nbformat_minor": 1
}