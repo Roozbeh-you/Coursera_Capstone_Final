{
    "cells": [
        {
            "cell_type": "markdown",
            "metadata": {
                "collapsed": true
            },
            "source": "## Data"
        },
        {
            "cell_type": "markdown",
            "metadata": {
                "collapsed": true
            },
            "source": "### 2-Description of Data"
        },
        {
            "cell_type": "markdown",
            "metadata": {},
            "source": "As there are so many important parameters that we have to consider, it was decided that we focus on limited number of parameters which seem to be more important in comparison with other ones. These parameters are listed below: <br> \n\n**1- Total number of Cafe/Cafeteria/Coffee in each neighborhood** <br>\n**2- Average rating for these stores for each neighborhood** <br>\n**3- Foot trafic in the area**<br>\n\nWe should consider that since \"Foursquare\" will provide foot traffic for the time we run the code. it's possible that we get no out put for that, so in that case we can ignore this parameter.\n\n**1-1- Total number of Cafe/Cafeteria/Coffee in each neighborhood:** <br>\n\nTotal number of stores will somehow shows number of opponents we have in the area. People are free to choose their favorit cafe; however, having too many stores in the area means that we have to share our customer which may decrease profitability.\n\n**1-2- Average rating for these stores for each neighborhood** <br>\n\nAverage rating of open stores could be a good measurement for the quality of exisiting Cafe. We can focuse on areas with lower average rating.\n\n**1-3- Foot trafic in the area**<br>\n\nFoot trafic is a good measure for determining if an area is a populated area or not. We can expect seeing higher foot traffic close the malls, universities or business areas. If the data regarding foot trafic is not available, we can find places like \"university\" and show the area around it as high foot trafic area."
        },
        {
            "cell_type": "code",
            "execution_count": null,
            "metadata": {},
            "outputs": [],
            "source": ""
        }
    ],
    "metadata": {
        "kernelspec": {
            "display_name": "Python 3.6",
            "language": "python",
            "name": "python3"
        },
        "language_info": {
            "codemirror_mode": {
                "name": "ipython",
                "version": 3
            },
            "file_extension": ".py",
            "mimetype": "text/x-python",
            "name": "python",
            "nbconvert_exporter": "python",
            "pygments_lexer": "ipython3",
            "version": "3.6.9"
        }
    },
    "nbformat": 4,
    "nbformat_minor": 1
}